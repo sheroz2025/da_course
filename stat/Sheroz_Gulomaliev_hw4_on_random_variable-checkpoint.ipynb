{
 "cells": [
  {
   "cell_type": "markdown",
   "id": "2cd826fd-f2a4-4d88-887b-4cd7de68512c",
   "metadata": {},
   "source": [
    "### <span style=\"color:blue\">Home work #4 on Random Variable</span>\n",
    " #### Sheroz Gulomaliev"
   ]
  },
  {
   "cell_type": "markdown",
   "id": "eedc7202-a98c-4602-a677-c214849022bc",
   "metadata": {},
   "source": [
    "1. Четыре монеты подбрасываются разом. Если переменная X это количество полученных орлов, то чему равен \n",
    "P(X=2)?"
   ]
  },
  {
   "cell_type": "code",
   "execution_count": 32,
   "id": "2299ee85-0a19-4ad1-9c82-167914ec3f52",
   "metadata": {},
   "outputs": [],
   "source": [
    "from math import factorial"
   ]
  },
  {
   "cell_type": "code",
   "execution_count": 33,
   "id": "3bd27724-f1f3-4e49-b50a-8882abe02b2f",
   "metadata": {},
   "outputs": [],
   "source": [
    "num_of_sides = 2  \n",
    "num_of_toss = 4  \n",
    "target_heads = 2  "
   ]
  },
  {
   "cell_type": "code",
   "execution_count": 34,
   "id": "ce7ee401-39dc-4292-8155-e88aff78db58",
   "metadata": {},
   "outputs": [],
   "source": [
    "def binomial_probability(n, k, p=0.5):\n",
    "    nominator = factorial(n)\n",
    "    denominator = factorial(k) * factorial(n-k)\n",
    "    res = nominator / denominator\n",
    "    probability = res * (p ** k) * ((1 - p) ** (n - k))\n",
    "    return probability"
   ]
  },
  {
   "cell_type": "code",
   "execution_count": 35,
   "id": "7681afd5-847a-4026-9c43-0e86c0302d07",
   "metadata": {},
   "outputs": [
    {
     "data": {
      "text/plain": [
       "0.375"
      ]
     },
     "execution_count": 35,
     "metadata": {},
     "output_type": "execute_result"
    }
   ],
   "source": [
    "P_X_equals_2 = binomial_probability(num_of_toss, target_heads)\n",
    "P_X_equals_2 "
   ]
  },
  {
   "cell_type": "markdown",
   "id": "8bd8eea9-3b2f-416d-b4ea-97518160de0b",
   "metadata": {},
   "source": [
    "2. Четыре монеты подбрасываются разом. Если переменная X это количество полученных орлов, то чему равен \n",
    "P(X≥1)?"
   ]
  },
  {
   "cell_type": "code",
   "execution_count": 36,
   "id": "19c18905-fa6c-4a75-beba-bd4fff8885a3",
   "metadata": {},
   "outputs": [],
   "source": [
    "num_of_toss = 4 \n",
    "p = 0.5 "
   ]
  },
  {
   "cell_type": "code",
   "execution_count": 47,
   "id": "1e7d49be-f5a3-4ef4-b2e2-79ec849e79df",
   "metadata": {},
   "outputs": [],
   "source": [
    "def binomial_probability(n, k, p):\n",
    "    nominator = factorial(n)\n",
    "    denominator = factorial(k) * factorial(n-k)\n",
    "    res = nominator / denominator\n",
    "    probability = res * (p ** k) * ((1 - p) ** (n - k))\n",
    "    return probability"
   ]
  },
  {
   "cell_type": "code",
   "execution_count": 38,
   "id": "179a50d7-a791-4e61-ab7c-d1efffaf2bee",
   "metadata": {},
   "outputs": [
    {
     "data": {
      "text/plain": [
       "0.0625"
      ]
     },
     "execution_count": 38,
     "metadata": {},
     "output_type": "execute_result"
    }
   ],
   "source": [
    "P_X_equals_0 = binomial_probability(num_of_toss, 0, 0.5)\n",
    "P_X_equals_0"
   ]
  },
  {
   "cell_type": "code",
   "execution_count": 39,
   "id": "24b003c7-c254-4f61-8a42-296afe49d9eb",
   "metadata": {},
   "outputs": [
    {
     "data": {
      "text/plain": [
       "0.9375"
      ]
     },
     "execution_count": 39,
     "metadata": {},
     "output_type": "execute_result"
    }
   ],
   "source": [
    "P_X_greater_equal_1 = 1 - P_X_equals_0\n",
    "P_X_greater_equal_1"
   ]
  },
  {
   "cell_type": "markdown",
   "id": "94f0316d-c9e6-4e80-9b71-8dd64a3ede11",
   "metadata": {},
   "source": [
    "3. Вероятность того, что у рандомного человека группа крови А составляет 40%. Выберем случайным образом 4 человек и пусть случайная величина X будет количеством людей с типом крови А. Постройте биномиальное распределение этого эксперимента."
   ]
  },
  {
   "cell_type": "code",
   "execution_count": 40,
   "id": "a459d2aa-c411-48b2-9869-42224c15ab8e",
   "metadata": {},
   "outputs": [],
   "source": [
    "n=4\n",
    "p=0.4\n"
   ]
  },
  {
   "cell_type": "code",
   "execution_count": 41,
   "id": "8d4617dc-5709-4830-865c-feb03ff32937",
   "metadata": {},
   "outputs": [],
   "source": [
    "def binomial_probability(n, k, p):\n",
    "    nominator = factorial(n)\n",
    "    denominator = factorial(k) * factorial(n-k)\n",
    "    res = nominator / denominator\n",
    "    probability = res * (p ** k) * ((1 - p) ** (n - k))\n",
    "    return probability"
   ]
  },
  {
   "cell_type": "code",
   "execution_count": 42,
   "id": "e3f9928c-dcca-4ea2-a695-a36b3dc4a0e1",
   "metadata": {},
   "outputs": [],
   "source": [
    "binomial_distribution = {}\n",
    "for k in range(4):  \n",
    "    binomial_distribution[k] = binomial_probability(n, k, p)\n"
   ]
  },
  {
   "cell_type": "code",
   "execution_count": 43,
   "id": "7089d299-1285-403c-9591-4c86eb084cf6",
   "metadata": {},
   "outputs": [
    {
     "data": {
      "text/plain": [
       "{0: 0.1296,\n",
       " 1: 0.34559999999999996,\n",
       " 2: 0.3456000000000001,\n",
       " 3: 0.15360000000000004}"
      ]
     },
     "execution_count": 43,
     "metadata": {},
     "output_type": "execute_result"
    }
   ],
   "source": [
    "binomial_distribution"
   ]
  },
  {
   "cell_type": "code",
   "execution_count": 44,
   "id": "56a66c02-46a5-44c7-8d28-05a699b44daa",
   "metadata": {},
   "outputs": [
    {
     "data": {
      "text/html": [
       "<div>\n",
       "<style scoped>\n",
       "    .dataframe tbody tr th:only-of-type {\n",
       "        vertical-align: middle;\n",
       "    }\n",
       "\n",
       "    .dataframe tbody tr th {\n",
       "        vertical-align: top;\n",
       "    }\n",
       "\n",
       "    .dataframe thead th {\n",
       "        text-align: right;\n",
       "    }\n",
       "</style>\n",
       "<table border=\"1\" class=\"dataframe\">\n",
       "  <thead>\n",
       "    <tr style=\"text-align: right;\">\n",
       "      <th></th>\n",
       "      <th>X (Количество людей с группой крови А)</th>\n",
       "      <th>P(X)</th>\n",
       "    </tr>\n",
       "  </thead>\n",
       "  <tbody>\n",
       "    <tr>\n",
       "      <th>0</th>\n",
       "      <td>0</td>\n",
       "      <td>0.1296</td>\n",
       "    </tr>\n",
       "    <tr>\n",
       "      <th>1</th>\n",
       "      <td>1</td>\n",
       "      <td>0.3456</td>\n",
       "    </tr>\n",
       "    <tr>\n",
       "      <th>2</th>\n",
       "      <td>2</td>\n",
       "      <td>0.3456</td>\n",
       "    </tr>\n",
       "    <tr>\n",
       "      <th>3</th>\n",
       "      <td>3</td>\n",
       "      <td>0.1536</td>\n",
       "    </tr>\n",
       "  </tbody>\n",
       "</table>\n",
       "</div>"
      ],
      "text/plain": [
       "   X (Количество людей с группой крови А)    P(X)\n",
       "0                                       0  0.1296\n",
       "1                                       1  0.3456\n",
       "2                                       2  0.3456\n",
       "3                                       3  0.1536"
      ]
     },
     "execution_count": 44,
     "metadata": {},
     "output_type": "execute_result"
    }
   ],
   "source": [
    "import pandas as pd\n",
    "df = pd.DataFrame({\n",
    "    \"X (Количество людей с группой крови А)\": list(binomial_distribution.keys()),\n",
    "    \"P(X)\": list(binomial_distribution.values())\n",
    "})\n",
    "df"
   ]
  },
  {
   "cell_type": "markdown",
   "id": "ced78762-d006-42c6-a2cd-8095f7b6e357",
   "metadata": {},
   "source": [
    "4. Известно, что на сайте компании в час в среднем происходит 10 продаж. Какова вероятность того что в любой выбранный час количество продаж составит 8 штук?"
   ]
  },
  {
   "cell_type": "code",
   "execution_count": 45,
   "id": "0c141354-bab6-4a68-99e4-12170d6e02ad",
   "metadata": {},
   "outputs": [
    {
     "data": {
      "text/plain": [
       "0.11259903214901998"
      ]
     },
     "execution_count": 45,
     "metadata": {},
     "output_type": "execute_result"
    }
   ],
   "source": [
    "import math\n",
    "\n",
    "lambda_value = 10 \n",
    "k = 8 \n",
    "\n",
    "# Расчёт вероятности по формуле Пуассона\n",
    "P_X_equals_8 = (lambda_value**k * math.exp(-lambda_value)) / math.factorial(k)\n",
    "\n",
    "(P_X_equals_8)"
   ]
  },
  {
   "cell_type": "markdown",
   "id": "d96e869f-d7c1-45dc-95a7-f09c2bff929f",
   "metadata": {},
   "source": [
    "5. Игрок в баскетбол исполняет успешно 60% штрафных бросков. Если он выполнит 12 штрафных бросков, какова вероятность того, что он попадёт в цель ровно 10 раз?"
   ]
  },
  {
   "cell_type": "code",
   "execution_count": 46,
   "id": "adf958a9-e740-4638-8cee-1019596981e9",
   "metadata": {},
   "outputs": [
    {
     "data": {
      "text/plain": [
       "0.06385228185599999"
      ]
     },
     "execution_count": 46,
     "metadata": {},
     "output_type": "execute_result"
    }
   ],
   "source": [
    "n = 12 \n",
    "k = 10  \n",
    "p = 0.6  \n",
    "\n",
    "\n",
    "combinations = factorial(n) / (factorial(k) * factorial(n - k))\n",
    "P_X_equals_10 = combinations * (p ** k) * ((1 - p) ** (n - k))\n",
    "P_X_equals_10 "
   ]
  },
  {
   "cell_type": "code",
   "execution_count": null,
   "id": "f06e00eb-fe9a-460d-9b5c-c0d9480e1590",
   "metadata": {},
   "outputs": [],
   "source": []
  },
  {
   "cell_type": "code",
   "execution_count": null,
   "id": "73bb8ba3-1bb4-43af-8761-9e3a21062ac8",
   "metadata": {},
   "outputs": [],
   "source": []
  }
 ],
 "metadata": {
  "kernelspec": {
   "display_name": "Python 3 (ipykernel)",
   "language": "python",
   "name": "python3"
  },
  "language_info": {
   "codemirror_mode": {
    "name": "ipython",
    "version": 3
   },
   "file_extension": ".py",
   "mimetype": "text/x-python",
   "name": "python",
   "nbconvert_exporter": "python",
   "pygments_lexer": "ipython3",
   "version": "3.12.7"
  }
 },
 "nbformat": 4,
 "nbformat_minor": 5
}
