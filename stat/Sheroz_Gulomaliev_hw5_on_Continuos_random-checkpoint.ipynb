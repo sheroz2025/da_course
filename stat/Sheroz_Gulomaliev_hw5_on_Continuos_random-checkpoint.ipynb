{
 "cells": [
  {
   "cell_type": "markdown",
   "id": "66027167-bcad-48c9-bac1-28fa7c9de172",
   "metadata": {},
   "source": [
    "### <span style=\"color:blue\">Home work #5 on Continuos Random</span>\n",
    " #### Sheroz Gulomaliev"
   ]
  },
  {
   "cell_type": "markdown",
   "id": "8ab3a1a6-9f73-4d98-9d5e-940ebbe06ef8",
   "metadata": {},
   "source": [
    "1. Есть переменная X с нормальным распределением. Если стандартизированное значение X равно 1.27 (z = 1.27), то какова вероятность \n",
    "P(Z≤1.27)?"
   ]
  },
  {
   "cell_type": "code",
   "execution_count": 2,
   "id": "221d6348-3fab-4493-9a61-0c82b11d1f22",
   "metadata": {},
   "outputs": [
    {
     "data": {
      "text/plain": [
       "0.8979576849251809"
      ]
     },
     "execution_count": 2,
     "metadata": {},
     "output_type": "execute_result"
    }
   ],
   "source": [
    "from scipy.stats import norm\n",
    "\n",
    "z_value = 1.27 \n",
    "\n",
    "P_Z_less_equal_1_27 = norm.cdf(z_value)\n",
    "P_Z_less_equal_1_27\n"
   ]
  },
  {
   "cell_type": "markdown",
   "id": "32fde236-eb91-4dbb-9e5f-507bcca27158",
   "metadata": {},
   "source": [
    "2.Допустим что Z это переменная со стандартным нормальным распределением. Какова вероятность \n",
    "P(−1.76<Z<-1.19)?"
   ]
  },
  {
   "cell_type": "code",
   "execution_count": 4,
   "id": "9ef3a155-20d1-467a-9adb-e6dc4ea10dea",
   "metadata": {},
   "outputs": [
    {
     "name": "stdout",
     "output_type": "stream",
     "text": [
      "Вероятность P(-1.76 < Z < -1.19): 0.07781929273562609\n"
     ]
    }
   ],
   "source": [
    "z1 = -1.76\n",
    "z2 = -1.19\n",
    "\n",
    "P_between = norm.cdf(z2) - norm.cdf(z1)\n",
    "\n",
    "print(f\"Вероятность P(-1.76 < Z < -1.19): {P_between}\")\n"
   ]
  },
  {
   "cell_type": "markdown",
   "id": "20558d57-23e8-406d-9f34-17f3f97e4aa0",
   "metadata": {},
   "source": [
    "3. У 95.45% девушек старших классов, вес находится в диапазоне от 38кг до 52кг. Если предположить, что вес девушек распределён нормально, найдите среднее значение и стандартное отклонение."
   ]
  },
  {
   "cell_type": "code",
   "execution_count": 5,
   "id": "a97d87d8-48f5-45f9-b126-f00b15229bf3",
   "metadata": {},
   "outputs": [
    {
     "name": "stdout",
     "output_type": "stream",
     "text": [
      "Среднее значение: 45.0\n",
      "Стандартное отклонение: 3.5\n"
     ]
    }
   ],
   "source": [
    "lower_bound = 38  \n",
    "upper_bound = 52 \n",
    "\n",
    "mu = (lower_bound + upper_bound) / 2\n",
    "sigma = (upper_bound - lower_bound) / 4\n",
    "\n",
    "print(f\"Среднее значение: {mu}\")\n",
    "print(f\"Стандартное отклонение: {sigma}\")"
   ]
  },
  {
   "cell_type": "markdown",
   "id": "ce3966d2-6ed3-4cf7-a97b-fb2af43ea4b9",
   "metadata": {},
   "source": [
    "4.Длина указательного пальца взрослых мужчин примерно соответствует нормальному распределению, с \n",
    "μ=7.5 cm  и σ=0.5cm. Какова вероятность того, что длина указательного пальца случайно выбранного мужчины будет в диапазоне от 7.3см до 8,7см?"
   ]
  },
  {
   "cell_type": "code",
   "execution_count": 6,
   "id": "43ebfc0d-4352-4ebc-a352-f858dfb9dbd3",
   "metadata": {},
   "outputs": [
    {
     "data": {
      "text/plain": [
       "0.6472242056857281"
      ]
     },
     "execution_count": 6,
     "metadata": {},
     "output_type": "execute_result"
    }
   ],
   "source": [
    "mu = 7.5 \n",
    "sigma = 0.5 \n",
    "lower_bound = 7.3 \n",
    "upper_bound = 8.7 \n",
    "\n",
    "P_range = norm.cdf(upper_bound, loc=mu, scale=sigma) - norm.cdf(lower_bound, loc=mu, scale=sigma)\n",
    "P_range"
   ]
  },
  {
   "cell_type": "markdown",
   "id": "bf8d7e55-dfe9-4dc0-8299-097978a03c2b",
   "metadata": {},
   "source": [
    "5. IQ человека является нормально распределённой величиной с μ=100 и σ=15. Какова вероятность того, что у случайно выбранного человека IQ будет выше 140?"
   ]
  },
  {
   "cell_type": "code",
   "execution_count": 17,
   "id": "fc12090c-6f1e-44b3-9001-5a9addda87c7",
   "metadata": {},
   "outputs": [
    {
     "data": {
      "text/plain": [
       "0.0038303805675897365"
      ]
     },
     "execution_count": 17,
     "metadata": {},
     "output_type": "execute_result"
    }
   ],
   "source": [
    "mu = 100\n",
    "sigma = 15\n",
    "iq = 140\n",
    "P_iq = norm.sf(iq, loc=mu, scale= sigma)\n",
    "P_iq"
   ]
  },
  {
   "cell_type": "code",
   "execution_count": null,
   "id": "3121edfe-49d5-411a-a72c-5319b2542077",
   "metadata": {},
   "outputs": [],
   "source": []
  },
  {
   "cell_type": "code",
   "execution_count": null,
   "id": "162fb0cd-8945-4618-97ba-1e59a96f35ca",
   "metadata": {},
   "outputs": [],
   "source": []
  },
  {
   "cell_type": "code",
   "execution_count": null,
   "id": "ad65ef55-a77f-49c5-ac64-ecabcf20a128",
   "metadata": {},
   "outputs": [],
   "source": []
  }
 ],
 "metadata": {
  "kernelspec": {
   "display_name": "Python 3 (ipykernel)",
   "language": "python",
   "name": "python3"
  },
  "language_info": {
   "codemirror_mode": {
    "name": "ipython",
    "version": 3
   },
   "file_extension": ".py",
   "mimetype": "text/x-python",
   "name": "python",
   "nbconvert_exporter": "python",
   "pygments_lexer": "ipython3",
   "version": "3.12.7"
  }
 },
 "nbformat": 4,
 "nbformat_minor": 5
}
