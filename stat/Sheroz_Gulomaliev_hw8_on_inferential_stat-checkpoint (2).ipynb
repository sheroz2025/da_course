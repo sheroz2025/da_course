{
 "cells": [
  {
   "cell_type": "markdown",
   "id": "24bdb1a3-1e0d-46e9-83ee-bcac2bc9b6f8",
   "metadata": {},
   "source": [
    "### <span style=\"color:blue\">Home work #8 interence on relationships</span>\n",
    " #### Sheroz Gulomaliev"
   ]
  },
  {
   "cell_type": "code",
   "execution_count": 3,
   "id": "51d9631f-e61d-4f29-9351-212679b228b7",
   "metadata": {},
   "outputs": [],
   "source": [
    "import scipy.stats as stats\n",
    "import numpy as np\n",
    "import pandas as pd"
   ]
  },
  {
   "cell_type": "markdown",
   "id": "5ac1c896-75c9-4dd0-a59f-bab8f0f08746",
   "metadata": {},
   "source": [
    "1. У случайной выборки людей разного возраста спросили надевают ли они очки при чтении. Результаты приведены в таблице ниже. Имеется ли взаимосвязь между возрастом и ношением очков?\n",
    "         надевает очки\tне надевает\n",
    "возраст ≤ 20\t    15\t56\n",
    "20 < возраст ≤40\t19\t37\n",
    "40 < возраст ≤60\t34\t35\n",
    "возраст > 60    \t51\t23"
   ]
  },
  {
   "cell_type": "code",
   "execution_count": 18,
   "id": "ec1c0485-1c3e-4243-bf1a-d45acd82328a",
   "metadata": {},
   "outputs": [
    {
     "name": "stdout",
     "output_type": "stream",
     "text": [
      "Хи-квадрат (ручной расчет) = 36.7951\n",
      "p-значение (ручной расчет) = 0.0000\n",
      "Степени свободы = 3\n",
      "Отвергаем H₀: Возраст и ношение очков зависимы\n"
     ]
    }
   ],
   "source": [
    "# Импортируем необходимые библиотеки\n",
    "import numpy as np\n",
    "import scipy.stats as stats\n",
    "import pandas as pd\n",
    "\n",
    "# 1️⃣ Создаем таблицу наблюдаемых частот\n",
    "observed = np.array([\n",
    "    [15, 56],  # Возраст ≤ 20\n",
    "    [19, 37],  # 20 < Возраст ≤ 40\n",
    "    [34, 35],  # 40 < Возраст ≤ 60\n",
    "    [51, 23]   # Возраст > 60\n",
    "])\n",
    "\n",
    "# 2️⃣ Считаем суммы по строкам и столбцам\n",
    "row_totals = observed.sum(axis=1)  # Суммы по возрастным группам\n",
    "col_totals = observed.sum(axis=0)  # Суммы по очкам (надевает / не надевает)\n",
    "total = observed.sum()  # Общее количество наблюдений\n",
    "\n",
    "# 3️⃣ Вычисляем ожидаемые значения\n",
    "expected = np.outer(row_totals, col_totals) / total\n",
    "\n",
    "# 4️⃣ Вычисляем статистику хи-квадрат вручную\n",
    "chi2_manual = ((observed - expected) ** 2 / expected).sum()\n",
    "\n",
    "# 5️⃣ Вычисляем степени свободы\n",
    "dof = (observed.shape[0] - 1) * (observed.shape[1] - 1)\n",
    "\n",
    "# 6️⃣ Вычисляем p-значение вручную\n",
    "p_value_manual = 1 - stats.chi2.cdf(chi2_manual, df=dof)\n",
    "\n",
    "# 7️⃣ Выводим результаты\n",
    "print(f\"Хи-квадрат (ручной расчет) = {chi2_manual:.4f}\")\n",
    "print(f\"p-значение (ручной расчет) = {p_value_manual:.4f}\")\n",
    "print(f\"Степени свободы = {dof}\")\n",
    "\n",
    "# 8️⃣ Интерпретация результата\n",
    "if p_value_manual < 0.05:\n",
    "    print(\"Отвергаем H₀: Возраст и ношение очков зависимы\")\n",
    "else:\n",
    "    print(\"Не отвергаем H₀: Нет достаточных доказательств связи между возрастом и ношением очков\")\n"
   ]
  },
  {
   "cell_type": "code",
   "execution_count": 19,
   "id": "17cfe0aa-640a-4681-8aeb-0fb317742cbc",
   "metadata": {},
   "outputs": [
    {
     "name": "stdout",
     "output_type": "stream",
     "text": [
      "Хи-квадрат = 36.7951\n",
      "p-значение = 0.0000\n",
      "Степени свободы = 3\n",
      "\n",
      "Ожидаемые значения:\n",
      "                   надевает очки  не надевает\n",
      "≤ 20                   31.292593    39.707407\n",
      "20 < возраст ≤ 40      24.681481    31.318519\n",
      "40 < возраст ≤ 60      30.411111    38.588889\n",
      "возраст > 60           32.614815    41.385185\n",
      "Отвергаем H₀: Возраст и ношение очков зависимы\n"
     ]
    }
   ],
   "source": [
    "# Импортируем необходимые библиотеки\n",
    "import scipy.stats as stats\n",
    "import numpy as np\n",
    "import pandas as pd\n",
    "\n",
    "# Создаем таблицу сопряженности\n",
    "data = np.array([[15, 56], [19, 37], [34, 35], [51, 23]])\n",
    "age_groups = [\"≤ 20\", \"20 < возраст ≤ 40\", \"40 < возраст ≤ 60\", \"возраст > 60\"]\n",
    "glasses = [\"надевает очки\", \"не надевает\"]\n",
    "\n",
    "# Выполняем тест хи-квадрат\n",
    "chi2, p, dof, expected = stats.chi2_contingency(data)\n",
    "\n",
    "# Создаем таблицу ожидаемых значений\n",
    "expected_df = pd.DataFrame(expected, index=age_groups, columns=glasses)\n",
    "\n",
    "# Выводим результаты\n",
    "print(f\"Хи-квадрат = {chi2:.4f}\")\n",
    "print(f\"p-значение = {p:.4f}\")\n",
    "print(f\"Степени свободы = {dof}\")\n",
    "print(\"\\nОжидаемые значения:\")\n",
    "print(expected_df)\n",
    "\n",
    "# Интерпретация результата\n",
    "if p < 0.05:\n",
    "    print(\"Отвергаем H₀: Возраст и ношение очков зависимы\")\n",
    "else:\n",
    "    print(\"Не отвергаем H₀: Нет достаточных доказательств связи между возрастом и ношением очков\")\n"
   ]
  },
  {
   "cell_type": "markdown",
   "id": "207efe13-c313-4cc5-9ae7-f5ed9a5a39fd",
   "metadata": {},
   "source": [
    "2. Случайная выборка студентов была разделена на 3 группы и каждая из них готовилась к сдаче экзамена по одной из 3 методик (A, B, C). В таблице ниже приведены оценки по экзамену студентов каждой группы. Определите имеются ли различия между группами.\n",
    "Group 1\tGroup 2\tGroup 3\n",
    "85\t91\t79\n",
    "86\t92\t78\n",
    "88\t93\t88\n",
    "75\t85\t94\n",
    "78\t87\t92\n",
    "94\t84\t85\n",
    "98\t82\t83\n",
    "79\t88\t85\n",
    "71\t95\t82\n",
    "80\t96\t81"
   ]
  },
  {
   "cell_type": "code",
   "execution_count": 4,
   "id": "a4f24887-651a-4d99-94dc-b2889f38976b",
   "metadata": {},
   "outputs": [],
   "source": [
    "group_1 = np.array([85, 86, 88, 75, 78, 94, 98, 79, 71, 80])\n",
    "group_2 = np.array([91, 92, 93, 85, 87, 84, 82, 88, 95, 96])\n",
    "group_3 = np.array([79, 78, 88, 94, 92, 85, 83, 85, 82, 81])\n"
   ]
  },
  {
   "cell_type": "code",
   "execution_count": 5,
   "id": "ddbfc0d8-8865-4338-ba34-e76175ac9cc2",
   "metadata": {},
   "outputs": [],
   "source": [
    "# h_0 : mu_1 = mu_2 = mu_3\n",
    "# h_A : mu_1 != mu_2 != mu_3"
   ]
  },
  {
   "cell_type": "code",
   "execution_count": 6,
   "id": "7f5895de-876e-47c3-88d9-e69f4949e783",
   "metadata": {},
   "outputs": [
    {
     "name": "stdout",
     "output_type": "stream",
     "text": [
      "количество наблюдений: 10\n",
      "среднее значение А: 83.4\n",
      "дисперсия А: 71.15555555555557\n",
      "стандартное отклонение А: 8.435375246872871\n"
     ]
    }
   ],
   "source": [
    "mean_1 = group_1.mean()\n",
    "size_1 = len(group_1)\n",
    "var_1 = group_1.var(ddof=1)\n",
    "std_1 = group_1.std(ddof=1)\n",
    "\n",
    "print(f\"количество наблюдений: {size_1}\")\n",
    "print(f\"среднее значение А: {mean_1}\")\n",
    "print(f\"дисперсия А: {var_1}\")\n",
    "print(f\"стандартное отклонение А: {std_1}\")"
   ]
  },
  {
   "cell_type": "code",
   "execution_count": 7,
   "id": "b1b497f7-c23f-4536-a42d-ba8a811ad0ba",
   "metadata": {},
   "outputs": [
    {
     "name": "stdout",
     "output_type": "stream",
     "text": [
      "количество наблюдений: 10\n",
      "среднее значение А: 89.3\n",
      "дисперсия А: 23.12222222222222\n",
      "стандартное отклонение А: 4.808557187163549\n"
     ]
    }
   ],
   "source": [
    "mean_2 = group_2.mean()\n",
    "size_2 = len(group_2)\n",
    "var_2 = group_2.var(ddof=1)\n",
    "std_2 = group_2.std(ddof=1)\n",
    "\n",
    "print(f\"количество наблюдений: {size_2}\")\n",
    "print(f\"среднее значение А: {mean_2}\")\n",
    "print(f\"дисперсия А: {var_2}\")\n",
    "print(f\"стандартное отклонение А: {std_2}\")"
   ]
  },
  {
   "cell_type": "code",
   "execution_count": 8,
   "id": "555b3175-9290-47b9-b3af-82c5b389607a",
   "metadata": {},
   "outputs": [
    {
     "name": "stdout",
     "output_type": "stream",
     "text": [
      "количество наблюдений: 10\n",
      "среднее значение А: 84.7\n",
      "дисперсия А: 28.01111111111111\n",
      "стандартное отклонение А: 5.2925524193068805\n"
     ]
    }
   ],
   "source": [
    "mean_3 = group_3.mean()\n",
    "size_3 = len(group_3)\n",
    "var_3 = group_3.var(ddof=1)\n",
    "std_3 = group_3.std(ddof=1)\n",
    "\n",
    "print(f\"количество наблюдений: {size_3}\")\n",
    "print(f\"среднее значение А: {mean_3}\")\n",
    "print(f\"дисперсия А: {var_3}\")\n",
    "print(f\"стандартное отклонение А: {std_3}\")"
   ]
  },
  {
   "cell_type": "code",
   "execution_count": 9,
   "id": "311e5236-55a2-43f4-b62b-88b129996229",
   "metadata": {},
   "outputs": [],
   "source": [
    "f_statistic, p_value = stats.f_oneway(group_1, group_2, group_3)\n"
   ]
  },
  {
   "cell_type": "code",
   "execution_count": 10,
   "id": "f35f478b-9d25-4987-89a6-b6616cedf585",
   "metadata": {},
   "outputs": [
    {
     "data": {
      "text/html": [
       "<div>\n",
       "<style scoped>\n",
       "    .dataframe tbody tr th:only-of-type {\n",
       "        vertical-align: middle;\n",
       "    }\n",
       "\n",
       "    .dataframe tbody tr th {\n",
       "        vertical-align: top;\n",
       "    }\n",
       "\n",
       "    .dataframe thead th {\n",
       "        text-align: right;\n",
       "    }\n",
       "</style>\n",
       "<table border=\"1\" class=\"dataframe\">\n",
       "  <thead>\n",
       "    <tr style=\"text-align: right;\">\n",
       "      <th></th>\n",
       "      <th>Groups</th>\n",
       "      <th>mu</th>\n",
       "      <th>std</th>\n",
       "    </tr>\n",
       "  </thead>\n",
       "  <tbody>\n",
       "    <tr>\n",
       "      <th>0</th>\n",
       "      <td>Group 1</td>\n",
       "      <td>83.4</td>\n",
       "      <td>8.435375</td>\n",
       "    </tr>\n",
       "    <tr>\n",
       "      <th>1</th>\n",
       "      <td>Group 2</td>\n",
       "      <td>89.3</td>\n",
       "      <td>4.808557</td>\n",
       "    </tr>\n",
       "    <tr>\n",
       "      <th>2</th>\n",
       "      <td>Group 3</td>\n",
       "      <td>84.7</td>\n",
       "      <td>5.292552</td>\n",
       "    </tr>\n",
       "  </tbody>\n",
       "</table>\n",
       "</div>"
      ],
      "text/plain": [
       "    Groups    mu       std\n",
       "0  Group 1  83.4  8.435375\n",
       "1  Group 2  89.3  4.808557\n",
       "2  Group 3  84.7  5.292552"
      ]
     },
     "execution_count": 10,
     "metadata": {},
     "output_type": "execute_result"
    }
   ],
   "source": [
    "stats_df = pd.DataFrame({\n",
    "    \"Groups\": [\"Group 1\", \"Group 2\", \"Group 3\"],\n",
    "    \"mu\": [mean_1, mean_2, mean_3],\n",
    "    \"std\": [std_1, std_2, std_3]\n",
    "})\n",
    "stats_df"
   ]
  },
  {
   "cell_type": "code",
   "execution_count": 11,
   "id": "f6d10884-5de7-475b-bbfa-cb4f21503689",
   "metadata": {},
   "outputs": [
    {
     "name": "stdout",
     "output_type": "stream",
     "text": [
      "Groups:\n",
      "    Groups    mu       std\n",
      "0  Group 1  83.4  8.435375\n",
      "1  Group 2  89.3  4.808557\n",
      "2  Group 3  84.7  5.292552\n",
      "\n",
      "F-статистика = 2.3575\n",
      "p-значение = 0.1138\n"
     ]
    }
   ],
   "source": [
    "print(\"Groups:\")\n",
    "print(stats_df)\n",
    "print(f\"\\nF-статистика = {f_statistic:.4f}\")\n",
    "print(f\"p-значение = {p_value:.4f}\")"
   ]
  },
  {
   "cell_type": "code",
   "execution_count": 12,
   "id": "6004e222-8adc-4e4c-9453-7aedf2be94de",
   "metadata": {},
   "outputs": [
    {
     "name": "stdout",
     "output_type": "stream",
     "text": [
      "Не отвергаем H₀: Нет достаточных доказательств различий между группами\n"
     ]
    }
   ],
   "source": [
    "if p_value < 0.05:\n",
    "    print(\"Отвергаем H₀: Имеются значимые различия между группами\")\n",
    "else:\n",
    "    print(\"Не отвергаем H₀: Нет достаточных доказательств различий между группами\")"
   ]
  },
  {
   "cell_type": "markdown",
   "id": "edcd87e5-e83c-457e-924d-32723feb1abf",
   "metadata": {},
   "source": [
    "3. Случайная выборка 20 игроков в баскетбол была отобрана для улучшения высоты их вертикального прыжка специальным методом тренировок. Высота максимального вертикального прыжка (в сантиметрах) каждого игрока измерили при отборе а потом измерили повторно, после прохождения тренировок. Результаты представлены в таблице ниже. Улучшила ли программа высоту вертикального прыжка игроков?\n",
    "Игрок\tМаксимальный вертикальный прыжок до программы тренировок (см)\tМаксимальный вертикальный прыжок после программы тренировок (см)\n",
    "Игрок 1\t    55.88\t60.96\n",
    "Игрок 2\t    50.80\t55.88\n",
    "Игрок 3\t    48.26\t48.26\n",
    "Игрок 4\t    60.96\t55.88\n",
    "Игрок 5\t    63.50\t71.12\n",
    "Игрок 6\t    63.50\t66.04\n",
    "Игрок 7\t    71.12   71.12\n",
    "Игрок 8     55.88\t60.96\n",
    "Игрок 9\t    76.20\t76.20\n",
    "Игрок 10\t68.58\t73.66\n",
    "Игрок 11\t60.96\t63.50\n",
    "Игрок 12\t45.72\t50.80\n",
    "Игрок 13\t40.64\t43.18\n",
    "Игрок 14\t48.26\t45.72\n",
    "Игрок 15\t48.26\t45.72\n",
    "Игрок 16\t71.12\t71.12\n",
    "Игрок 17\t60.96\t66.04\n",
    "Игрок 18\t63.50\t68.58\n",
    "Игрок 19\t63.50\t68.58\n",
    "Игрок 20\t58.42\t60.96\n"
   ]
  },
  {
   "cell_type": "code",
   "execution_count": 14,
   "id": "1be7d9cb-dce7-4415-8f30-acc16348370b",
   "metadata": {},
   "outputs": [],
   "source": [
    "before_training = np.array([55.88, 50.80, 48.26, 60.96, 63.50, 63.50, 71.12, 55.88, 76.20, 68.58, \n",
    "                            60.96, 45.72, 40.64, 48.26, 48.26, 71.12, 60.96, 63.50, 63.50, 58.42])\n",
    "after_training = np.array([60.96, 55.88, 48.26, 55.88, 71.12, 66.04, 71.12, 60.96, 76.20, 73.66, \n",
    "                           63.50, 50.80, 43.18, 45.72, 45.72, 71.12, 66.04, 68.58, 68.58, 60.96])"
   ]
  },
  {
   "cell_type": "code",
   "execution_count": 16,
   "id": "6e806991-ef94-4713-ae3d-0ff09dd93baf",
   "metadata": {},
   "outputs": [
    {
     "name": "stdout",
     "output_type": "stream",
     "text": [
      "t-статистика = -3.2262\n",
      "p-значение = 0.0022\n"
     ]
    }
   ],
   "source": [
    "t_statistic, p_value = stats.ttest_rel(before_training, after_training, alternative='less')\n",
    "print(f\"t-статистика = {t_statistic:.4f}\")\n",
    "print(f\"p-значение = {p_value:.4f}\")"
   ]
  },
  {
   "cell_type": "code",
   "execution_count": 17,
   "id": "96262acf-9b1c-429a-909f-3b8ae60b1650",
   "metadata": {},
   "outputs": [
    {
     "name": "stdout",
     "output_type": "stream",
     "text": [
      "Отвергаем H₀: Программа тренировок улучшила высоту прыжка\n"
     ]
    }
   ],
   "source": [
    "if p_value < 0.05:\n",
    "    print(\"Отвергаем H₀: Программа тренировок улучшила высоту прыжка\")\n",
    "else:\n",
    "    print(\"Не отвергаем H₀: Нет достаточных доказательств улучшения высоты прыжка\")"
   ]
  },
  {
   "cell_type": "code",
   "execution_count": null,
   "id": "bf6bd353-b553-4bc2-aa94-9a2d299d5792",
   "metadata": {},
   "outputs": [],
   "source": []
  }
 ],
 "metadata": {
  "kernelspec": {
   "display_name": "Python 3 (ipykernel)",
   "language": "python",
   "name": "python3"
  },
  "language_info": {
   "codemirror_mode": {
    "name": "ipython",
    "version": 3
   },
   "file_extension": ".py",
   "mimetype": "text/x-python",
   "name": "python",
   "nbconvert_exporter": "python",
   "pygments_lexer": "ipython3",
   "version": "3.12.7"
  }
 },
 "nbformat": 4,
 "nbformat_minor": 5
}
