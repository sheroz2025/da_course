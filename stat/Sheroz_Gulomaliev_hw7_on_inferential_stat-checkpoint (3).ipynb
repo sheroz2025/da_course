{
 "cells": [
  {
   "cell_type": "markdown",
   "id": "8882cad2-2c0e-4dd1-883b-a2ac8ad6f04e",
   "metadata": {},
   "source": [
    "### <span style=\"color:blue\">Home work #7 on inferential_stat</span>\n",
    " #### Sheroz Gulomaliev"
   ]
  },
  {
   "cell_type": "markdown",
   "id": "23ec5478-2fc8-46a9-8f72-16edc09da186",
   "metadata": {},
   "source": [
    "1. Производитель светодиодных лампочек заявляет что их продукция имеет средний срок службы в 2000 часов. Клиент считает что срок службы лампочек меньше заявляемого компанией. Чтобы проверить это клиент купил 50 лампочек производства этой компании и их средний срок службы составил 1980 часов, со стандартным отклонением в 66 часов. Проверьте гипотезы и вынесите заключение."
   ]
  },
  {
   "cell_type": "code",
   "execution_count": 59,
   "id": "e4847d72-c1b5-417c-a1e1-247869b27d46",
   "metadata": {},
   "outputs": [],
   "source": [
    "import scipy.stats as stats\n",
    "import numpy as np"
   ]
  },
  {
   "cell_type": "code",
   "execution_count": 60,
   "id": "8402baca-a433-413b-afed-347c1890ed6d",
   "metadata": {},
   "outputs": [],
   "source": [
    "mu_0 = 2000  \n",
    "# mu_A < 2000\n",
    "sample_mean = 1980  \n",
    "sample_std = 66  \n",
    "n = 50  \n",
    "alpha = 0.05 "
   ]
  },
  {
   "cell_type": "code",
   "execution_count": 61,
   "id": "a05537a8-f86e-475a-aa79-3051b50b6325",
   "metadata": {},
   "outputs": [
    {
     "name": "stdout",
     "output_type": "stream",
     "text": [
      "Отвергаем нулевую гипотезу\n",
      "0.01606667657078901\n",
      "0.05\n"
     ]
    }
   ],
   "source": [
    "se = sample_std / np.sqrt(n)\n",
    "\n",
    "t = (sample_mean - mu_0) / se\n",
    "\n",
    "t_critical = stats.t.ppf(alpha, df=n-1)\n",
    "\n",
    "p_value1 = stats.t.sf(abs(t), df=n-1) \n",
    "\n",
    "if p_value < alpha:\n",
    "  print(\"Отвергаем нулевую гипотезу\")\n",
    "else:\n",
    "  print(\"Не можем отвергнуть нулевую гипотезу\")\n",
    "print(p_value)\n",
    "print(alpha)"
   ]
  },
  {
   "cell_type": "markdown",
   "id": "d6407674-54ec-4c17-953b-48e05e3249c2",
   "metadata": {},
   "source": [
    "2. Фасовочная машина заполняет мешки рисом в среднем по 1000гр на мешок и стандартным отклонением в 5гр. У производителя есть подозрение, что машина фасует рис в среднем больше требуемого. Он поручил сделать выборку из 100 мешков и их средний вес оказался равным 1003гр. Оправданы ли подозрения производителя?"
   ]
  },
  {
   "cell_type": "code",
   "execution_count": 62,
   "id": "18daa98e-9e07-46b9-b7f0-69300df83b72",
   "metadata": {},
   "outputs": [
    {
     "name": "stdout",
     "output_type": "stream",
     "text": [
      "Отклоняем H0: машина фасует в среднем больше 1000 г.\n"
     ]
    }
   ],
   "source": [
    "mu_0 = 1000\n",
    "# mu_A < 1000\n",
    "\n",
    "sample_mean = 1003\n",
    "sigma = 5\n",
    "n = 100 \n",
    "alpha = 0.05 \n",
    "\n",
    "se = sigma / np.sqrt(n)\n",
    "\n",
    "z = (sample_mean - mu_0) / se\n",
    "\n",
    "p_value = stats.norm.sf(z_stat)\n",
    "\n",
    "z_critical = stats.norm.ppf(1 - alpha)\n",
    "\n",
    "if p_value < alpha:\n",
    "    print(\"Отклоняем H0: машина фасует в среднем больше 1000 г.\")\n",
    "else:\n",
    "    print(\"Нет оснований отклонять H0: данных недостаточно, чтобы доказать, что фасуется больше 1000 г.\")\n",
    "\n"
   ]
  },
  {
   "cell_type": "markdown",
   "id": "54876faa-ce03-413f-b2e9-a70a0850c205",
   "metadata": {},
   "source": [
    "3. Утверждается что домашние коты живут в среднем 15.7 лет. Учёный решил проверить истинность этого утверждения и замерил срок жизни 40 домашних котов в своём городе. Средний срок жизни котов в выборке оказался равным 16.5 годам со стандартным отклонением в 1.6 лет. Значит ли это, что коты в среднем живут дольше чем принято считать?"
   ]
  },
  {
   "cell_type": "code",
   "execution_count": 63,
   "id": "ff99d708-dfeb-41e2-81e8-b61998f19514",
   "metadata": {},
   "outputs": [],
   "source": [
    "mu_0 = 15.7\n",
    "# mu_A > 15.7\n",
    "sample_mean = 16.5\n",
    "sample_std = 1.6\n",
    "n = 40\n",
    "alpha = 0.05"
   ]
  },
  {
   "cell_type": "code",
   "execution_count": 64,
   "id": "c97ca6c6-9807-4ae9-b92a-433b74d94ffb",
   "metadata": {},
   "outputs": [
    {
     "name": "stdout",
     "output_type": "stream",
     "text": [
      "Отклоняем H0: коты в этом городе действительно живут дольше 15.7 лет.\n"
     ]
    }
   ],
   "source": [
    "se = sample_std / np.sqrt(n)\n",
    "st_stat = (sample_mean - mu_0) / se\n",
    "t_critical = stats.t.ppf(1 - alpha, df=39)\n",
    "p_value = 1 - stats.t.cdf(t_stat, df=39)\n",
    "if p_value < alpha:\n",
    "    print(\"Отклоняем H0: коты в этом городе действительно живут дольше 15.7 лет.\")\n",
    "else:\n",
    "    print(\"Нет оснований отвергнуть H0: данных недостаточно, чтобы утверждать, что коты живут дольше.\")"
   ]
  },
  {
   "cell_type": "markdown",
   "id": "5d5d67c6-e436-4c5c-997d-ebcdaa0caac8",
   "metadata": {},
   "source": [
    "4. Здоровый новорожденный весит в среднем 3.40кг со стандартным отклонением в 0.45кг. Выборка из 49 новорожденных была взвешена и средний вес оказался равным 3.29кг. Проверьте следующие гипотезы: \n",
    "Ho:μ=7.5 и Ha:μ<7.5"
   ]
  },
  {
   "cell_type": "code",
   "execution_count": null,
   "id": "e3a16375-894a-4735-acf9-7032fa120ae8",
   "metadata": {},
   "outputs": [],
   "source": [
    "mu_0 = 7"
   ]
  },
  {
   "cell_type": "markdown",
   "id": "821a0364-d15d-4158-bc36-008227766a8b",
   "metadata": {},
   "source": [
    "5. В популяции средний показатель IQ составляет 100 со стандартным отклонением 15. Команда ученых хочет проверить новое лекарство, чтобы выяснить, оказывает ли оно положительное или отрицательное влияние на интеллект, или же не оказывает никакого эффекта. В выборке из 30 участников, которые принимали лекарство, средний показатель IQ составил 140. Повлияло ли лекарство на интеллект?"
   ]
  },
  {
   "cell_type": "code",
   "execution_count": null,
   "id": "36d8ca8d-62f1-42bf-9f38-1caa4e507041",
   "metadata": {},
   "outputs": [],
   "source": [
    "mu_0 = 100\n",
    "sigma = 15\n",
    "n = 30\n",
    "sample_mean = 140\n",
    "alpha = 0.05"
   ]
  },
  {
   "cell_type": "code",
   "execution_count": 65,
   "id": "ff1862ac-c049-4dd8-b291-d260d2725af2",
   "metadata": {},
   "outputs": [
    {
     "name": "stdout",
     "output_type": "stream",
     "text": [
      "Отклоняем H0: лекарство действительно влияет на IQ.\n"
     ]
    }
   ],
   "source": [
    "se = sigma / np.sqrt(n)\n",
    "\n",
    "z = (sample_mean - mu) / se\n",
    "\n",
    "p_value = 2 * stats.norm.sf(abs(z))\n",
    "\n",
    "if p_value < alpha:\n",
    "    print(\"Отклоняем H0: лекарство действительно влияет на IQ.\")\n",
    "else:\n",
    "    print(\"Нет оснований отвергнуть H0: данных недостаточно, чтобы утверждать, что лекарство влияет на IQ.\")"
   ]
  },
  {
   "cell_type": "code",
   "execution_count": null,
   "id": "93d9ffed-e389-44f5-95f2-fb63d898b92c",
   "metadata": {},
   "outputs": [],
   "source": []
  },
  {
   "cell_type": "code",
   "execution_count": null,
   "id": "4a42294a-ff3a-4f4c-a871-66dc5b4773b7",
   "metadata": {},
   "outputs": [],
   "source": []
  },
  {
   "cell_type": "code",
   "execution_count": null,
   "id": "ae12e536-17be-4890-bed2-99730f25a1ba",
   "metadata": {},
   "outputs": [],
   "source": []
  },
  {
   "cell_type": "code",
   "execution_count": null,
   "id": "a8cdc6d2-76cb-47d0-b608-3587d7026ffa",
   "metadata": {},
   "outputs": [],
   "source": []
  }
 ],
 "metadata": {
  "kernelspec": {
   "display_name": "Python 3 (ipykernel)",
   "language": "python",
   "name": "python3"
  },
  "language_info": {
   "codemirror_mode": {
    "name": "ipython",
    "version": 3
   },
   "file_extension": ".py",
   "mimetype": "text/x-python",
   "name": "python",
   "nbconvert_exporter": "python",
   "pygments_lexer": "ipython3",
   "version": "3.12.7"
  }
 },
 "nbformat": 4,
 "nbformat_minor": 5
}
