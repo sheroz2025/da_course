{
 "cells": [
  {
   "cell_type": "markdown",
   "id": "78c39820-92bd-46d8-9d7f-78dd844c4414",
   "metadata": {},
   "source": [
    " ### <span style=\"color:blue\">Home work #2 on combinatorics</span>\n",
    " #### Sheroz Gulomaliev"
   ]
  },
  {
   "cell_type": "markdown",
   "id": "04498afd-c7db-4378-b69a-aaa53a16bfaa",
   "metadata": {},
   "source": [
    "1.Макс забыл пароль от своего телефона. Пароль состоял из пяти значений, каждое из которых может быть цифрой от 0 до 9. Сколько всего вариантов должен перебрать Макс, чтобы подобрать пароль к своему телефону?"
   ]
  },
  {
   "cell_type": "code",
   "execution_count": 1,
   "id": "58ee91f0-9d9d-474e-b341-c345027d5eba",
   "metadata": {},
   "outputs": [],
   "source": [
    "import math"
   ]
  },
  {
   "cell_type": "code",
   "execution_count": 2,
   "id": "76e4e01b-7b2c-4876-b20c-b0d71847e6c5",
   "metadata": {},
   "outputs": [
    {
     "data": {
      "text/plain": [
       "100000"
      ]
     },
     "execution_count": 2,
     "metadata": {},
     "output_type": "execute_result"
    }
   ],
   "source": [
    "nums = 10\n",
    "length = 5\n",
    "\n",
    "total_combinations = nums ** length\n",
    "total_combinations\n"
   ]
  },
  {
   "cell_type": "markdown",
   "id": "f51e8657-9295-40c2-bc2e-a00aba954098",
   "metadata": {},
   "source": [
    "2. У Малики есть все семь книг серии о Гарри Поттере. Сколькими способами она может расставить эти книги на полке?"
   ]
  },
  {
   "cell_type": "code",
   "execution_count": 4,
   "id": "a148f0ac-2255-412d-bcd3-a8589160921d",
   "metadata": {},
   "outputs": [
    {
     "data": {
      "text/plain": [
       "5040"
      ]
     },
     "execution_count": 4,
     "metadata": {},
     "output_type": "execute_result"
    }
   ],
   "source": [
    "books = 7\n",
    "\n",
    "arrangements  = math.factorial(books)\n",
    "arrangements"
   ]
  },
  {
   "cell_type": "markdown",
   "id": "2601e143-e8fc-4220-9baa-545255b884d6",
   "metadata": {},
   "source": [
    "3. На окружности круга размещены 9 точек. Сколько можно провести линий, соединяющих эти точки?"
   ]
  },
  {
   "cell_type": "code",
   "execution_count": 7,
   "id": "2d11d114-9b4a-4286-b483-24ee84cc0b89",
   "metadata": {},
   "outputs": [
    {
     "data": {
      "text/plain": [
       "36.0"
      ]
     },
     "execution_count": 7,
     "metadata": {},
     "output_type": "execute_result"
    }
   ],
   "source": [
    "n = 9\n",
    "k = 2\n",
    "\n",
    "combinations = math.factorial(n)/(math.factorial(k)*math.factorial(n-k))\n",
    "combinations"
   ]
  },
  {
   "cell_type": "markdown",
   "id": "dc83a161-6b59-457b-a553-a84484384487",
   "metadata": {},
   "source": [
    "4. Транс-Сибирская железнодорожная магистраль тянется от Москвы до Владивостока. Всего, магистраль состоит из 19 станций. На билете указывается станция отбытия и станция пребытия. Сколько всего вариантов билетов существует?"
   ]
  },
  {
   "cell_type": "code",
   "execution_count": 17,
   "id": "8ba7d352-ae77-4e3d-8101-1d9e06286a22",
   "metadata": {},
   "outputs": [
    {
     "data": {
      "text/plain": [
       "342"
      ]
     },
     "execution_count": 17,
     "metadata": {},
     "output_type": "execute_result"
    }
   ],
   "source": [
    "stations = 19\n",
    "\n",
    "total_tickets = stations * (stations- 1)\n",
    "total_tickets"
   ]
  },
  {
   "cell_type": "markdown",
   "id": "1667a23f-62c4-4fbd-9ccf-01d9d1648559",
   "metadata": {},
   "source": [
    "5. Вы работаете в команде из 13 человек. Ваш менеджер решает рандомно выбрать 3 человек из команды и отправить на конференцию в Анталию, которая будет длится 4 дня. Какова вероятность того, что вам посчастливится поехать на конференцию?"
   ]
  },
  {
   "cell_type": "code",
   "execution_count": 13,
   "id": "00883201-90ab-4382-9c13-db11e0107e01",
   "metadata": {},
   "outputs": [
    {
     "data": {
      "text/plain": [
       "286.0"
      ]
     },
     "execution_count": 13,
     "metadata": {},
     "output_type": "execute_result"
    }
   ],
   "source": [
    "n = 13\n",
    "k = 3\n",
    "\n",
    "total_outcomes = math.factorial(n)/(math.factorial(k)*math.factorial(n-k))\n",
    "total_outcomes"
   ]
  },
  {
   "cell_type": "code",
   "execution_count": 14,
   "id": "16a215a2-8a56-4313-946e-358219c8d6a1",
   "metadata": {},
   "outputs": [
    {
     "data": {
      "text/plain": [
       "66.0"
      ]
     },
     "execution_count": 14,
     "metadata": {},
     "output_type": "execute_result"
    }
   ],
   "source": [
    "n = 12\n",
    "k = 2\n",
    "\n",
    "favorable_outcomes = math.factorial(n)/(math.factorial(k)*math.factorial(n-k))\n",
    "favorable_outcomes"
   ]
  },
  {
   "cell_type": "code",
   "execution_count": 15,
   "id": "84ca311e-5282-40e3-98f3-8c727a93e7ed",
   "metadata": {},
   "outputs": [
    {
     "data": {
      "text/plain": [
       "0.23076923076923078"
      ]
     },
     "execution_count": 15,
     "metadata": {},
     "output_type": "execute_result"
    }
   ],
   "source": [
    "probability = favorable_outcomes / total_outcomes\n",
    "probability"
   ]
  },
  {
   "cell_type": "code",
   "execution_count": null,
   "id": "1a27b0b4-af02-4836-a580-c746a83f7162",
   "metadata": {},
   "outputs": [],
   "source": []
  },
  {
   "cell_type": "code",
   "execution_count": null,
   "id": "e4e91353-d8a8-49fe-b012-3529bb253e7a",
   "metadata": {},
   "outputs": [],
   "source": []
  }
 ],
 "metadata": {
  "kernelspec": {
   "display_name": "Python 3 (ipykernel)",
   "language": "python",
   "name": "python3"
  },
  "language_info": {
   "codemirror_mode": {
    "name": "ipython",
    "version": 3
   },
   "file_extension": ".py",
   "mimetype": "text/x-python",
   "name": "python",
   "nbconvert_exporter": "python",
   "pygments_lexer": "ipython3",
   "version": "3.12.7"
  }
 },
 "nbformat": 4,
 "nbformat_minor": 5
}
