{
 "cells": [
  {
   "cell_type": "markdown",
   "id": "0dbcdf8a-e7ac-4e01-8c44-ce6f744b18a1",
   "metadata": {},
   "source": [
    "### <span style=\"color:blue\">Home work #6 on Sampling Distrbution</span>\n",
    " #### Sheroz Gulomaliev"
   ]
  },
  {
   "cell_type": "markdown",
   "id": "ea5d44f9-6b5e-4749-8f99-ccdbfdb36f9f",
   "metadata": {},
   "source": [
    "1. Имеется следующая выборка [6, 8, 11, 11, 17, 21, 34, 35, 41, 42, 43, 46, 54, 54, 59, 62], где каждое наблюдение это возраст человека. Какова точечная оценка среднего значения и стандартного отклонения популяции?"
   ]
  },
  {
   "cell_type": "code",
   "execution_count": 1,
   "id": "c9770705-f19e-4a74-83fb-9414c4045932",
   "metadata": {},
   "outputs": [],
   "source": [
    "import numpy as np\n",
    "from scipy import stats"
   ]
  },
  {
   "cell_type": "code",
   "execution_count": 3,
   "id": "8e5352da-0c5d-4b4b-88af-6cd213736ec7",
   "metadata": {},
   "outputs": [
    {
     "name": "stdout",
     "output_type": "stream",
     "text": [
      "Среднее значение: 34.0\n",
      "Стандартное отклонение популяции: 18.580904176062045\n"
     ]
    }
   ],
   "source": [
    "sample = np.array([6, 8, 11, 11, 17, 21, 34, 35, 41, 42, 43, 46, 54, 54, 59, 62])\n",
    "\n",
    "sample_mean = np.mean(sample)\n",
    "\n",
    "sample_std_population = np.std(sample, ddof=0)\n",
    "\n",
    "print(f\"Среднее значение: {sample_mean:}\")\n",
    "print(f\"Стандартное отклонение популяции: {sample_std_population:}\")"
   ]
  },
  {
   "cell_type": "markdown",
   "id": "eef2be69-f3a3-4742-a22b-9f858911da19",
   "metadata": {},
   "source": [
    "2. 24% всех производимых шоколадных драже M&M's красятся в синий цвет. В стандартном пакете чаще всего содержится 17 драже. Какова вероятность, что в купленном вами в магазине пакетике, доля синих драже будет больше 40%?"
   ]
  },
  {
   "cell_type": "code",
   "execution_count": 13,
   "id": "c7205d65-00a5-4aa1-8904-ea19170a81b0",
   "metadata": {},
   "outputs": [
    {
     "name": "stdout",
     "output_type": "stream",
     "text": [
      "Вероятность того, что доля синих драже будет больше 40%: 0.0612\n"
     ]
    }
   ],
   "source": [
    "p_blue = 0.24  \n",
    "n = 17  \n",
    "p_threshold = 0.40 \n",
    "\n",
    "mean_p_hat = p_blue\n",
    "std_p_hat = np.sqrt((p_blue * (1 - p_blue)) / n)\n",
    "\n",
    "z_score = (p_threshold - mean_p_hat) / std_p_hat\n",
    "\n",
    "probability = 1 - stats.norm.cdf(z_score)\n",
    "\n",
    "print(f\"Вероятность того, что доля синих драже будет больше 40%: {probability:.4f}\")\n"
   ]
  },
  {
   "cell_type": "raw",
   "id": "5166aa5f-4dfe-4868-bb1b-e7a81fc9a598",
   "metadata": {},
   "source": [
    "3. 64 мужчины были выбраны случайным образом и их веса были измерены. Среднее значение выборки составило 84 кг, а стандартное отклонение - 24 кг. Рассчитайте доверительный интервал для среднего значения популяции с 90%-м уровнем доверия."
   ]
  },
  {
   "cell_type": "code",
   "execution_count": 12,
   "id": "ef7e22ed-c766-415a-bd24-53ea06c3aabc",
   "metadata": {},
   "outputs": [
    {
     "name": "stdout",
     "output_type": "stream",
     "text": [
      "90% доверительный интервал: (79.06543911914558, 88.93456088085442)\n"
     ]
    }
   ],
   "source": [
    "sample_mean = 84  \n",
    "sample_std = 24  \n",
    "n = 64 \n",
    "confidence_level = 0.90  \n",
    "\n",
    "standard_error = sample_std / np.sqrt(n)\n",
    "\n",
    "z_critical = stats.norm.ppf(1 - (1 - confidence_level) / 2)\n",
    "\n",
    "margin_of_error = z_critical * standard_error\n",
    "confidence_interval = (sample_mean - margin_of_error, sample_mean + margin_of_error)\n",
    "\n",
    "print(f\"90% доверительный интервал: {confidence_interval}\")\n"
   ]
  },
  {
   "cell_type": "markdown",
   "id": "4e5c3613-3597-4236-aa8b-bf56fb8e50ac",
   "metadata": {},
   "source": [
    "4. В 2003 году Дартмутская Медицинская Школа запустила исследование для изучения связи между просмотром фильмов с курящими актёрами и началом курения среди подростков. В исследовании были случайным образом отобраны 6522 американских подростка в возрасте 10-14 лет, которые никогда не пробовали курить до этого. Из тех, кто впоследствии попробовал курить впервые, 38% сделали это из-за воздействия курения в фильмах. Оцените долю всех американских подростков в возрасте 10-14 лет, которые начали курить из-за просмотра курящих актеров в фильмах, построив 95% доверительный интервал."
   ]
  },
  {
   "cell_type": "code",
   "execution_count": 14,
   "id": "e12219e0-4d96-478d-9c4a-322ff4d63a6e",
   "metadata": {},
   "outputs": [
    {
     "name": "stdout",
     "output_type": "stream",
     "text": [
      "95% доверительный интервал: (0.36821999874165273, 0.3917800012583473)\n"
     ]
    }
   ],
   "source": [
    "p_hat = 0.38 \n",
    "n = 6522  \n",
    "confidence_level = 0.95  \n",
    "\n",
    "standard_error = np.sqrt((p_hat * (1 - p_hat)) / n)\n",
    "\n",
    "z_critical = stats.norm.ppf(1 - (1 - confidence_level) / 2)\n",
    "\n",
    "margin_of_error = z_critical * standard_error\n",
    "confidence_interval = (p_hat - margin_of_error, p_hat + margin_of_error)\n",
    "\n",
    "print(f\"95% доверительный интервал: {confidence_interval}\")\n"
   ]
  },
  {
   "cell_type": "markdown",
   "id": "6cbe1698-7a9c-4ec4-9d9c-54d8e9c05ed4",
   "metadata": {},
   "source": [
    "5.  49 женщин, были выбраны случайным образом и их высота была измерена. Среднее значение выборки составило 164 см, стандартное отклонение - 20 см. Рассчитайте доверительный интервал для среднего значения популяции с 95%-м уровнем доверия."
   ]
  },
  {
   "cell_type": "code",
   "execution_count": 15,
   "id": "37752e55-8827-4c87-ba0f-c246cab65699",
   "metadata": {},
   "outputs": [
    {
     "name": "stdout",
     "output_type": "stream",
     "text": [
      "95% доверительный интервал: (158.25532926393078, 169.74467073606922)\n"
     ]
    }
   ],
   "source": [
    "sample_mean = 164  \n",
    "sample_std = 20  \n",
    "n = 49  \n",
    "confidence_level = 0.95  \n",
    "\n",
    "standard_error = sample_std / np.sqrt(n)\n",
    "\n",
    "t_critical = stats.t.ppf(1 - (1 - confidence_level) / 2, df=n-1)\n",
    "\n",
    "margin_of_error = t_critical * standard_error\n",
    "confidence_interval = (sample_mean - margin_of_error, sample_mean + margin_of_error)\n",
    "\n",
    "print(f\"95% доверительный интервал: {confidence_interval}\")\n"
   ]
  },
  {
   "cell_type": "code",
   "execution_count": null,
   "id": "0c72931c-c9f4-4d18-b9e6-c92133a00873",
   "metadata": {},
   "outputs": [],
   "source": []
  }
 ],
 "metadata": {
  "kernelspec": {
   "display_name": "Python 3 (ipykernel)",
   "language": "python",
   "name": "python3"
  },
  "language_info": {
   "codemirror_mode": {
    "name": "ipython",
    "version": 3
   },
   "file_extension": ".py",
   "mimetype": "text/x-python",
   "name": "python",
   "nbconvert_exporter": "python",
   "pygments_lexer": "ipython3",
   "version": "3.12.7"
  }
 },
 "nbformat": 4,
 "nbformat_minor": 5
}
