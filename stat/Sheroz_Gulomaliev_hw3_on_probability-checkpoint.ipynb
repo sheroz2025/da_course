{
 "cells": [
  {
   "cell_type": "markdown",
   "id": "72dc2070-a628-4f14-9f7e-05bee6dabf5a",
   "metadata": {},
   "source": [
    " ### <span style=\"color:blue\">Home work #3 on Probability</span>\n",
    " #### Sheroz Gulomaliev"
   ]
  },
  {
   "cell_type": "markdown",
   "id": "31c315d4-998c-4b48-ab99-aeb504085099",
   "metadata": {},
   "source": [
    "1. В колоде 52 карты. Вы поочерёдно вытаскиваете из колоды две карты, без возврата. Какова вероятность того, что вы вытащите два туза?"
   ]
  },
  {
   "cell_type": "markdown",
   "id": "10d1a987-62ce-4f71-9daa-23d3c7a17cdb",
   "metadata": {},
   "source": [
    "P(A1) = 4/52\n",
    "\n",
    "P(A2|A1) = 3/51\n",
    "\n",
    "P(A1nA2) = P(A1) * P(A2|A1)\n"
   ]
  },
  {
   "cell_type": "code",
   "execution_count": 16,
   "id": "817bea0e-8b04-4e9e-8854-37c6acd8f7c9",
   "metadata": {},
   "outputs": [
    {
     "data": {
      "text/plain": [
       "0.004524886877828055"
      ]
     },
     "execution_count": 16,
     "metadata": {},
     "output_type": "execute_result"
    }
   ],
   "source": [
    "P_first_Ace = 4 /52\n",
    "P_second_Ace_after_giving_first = 3/51\n",
    "P_first_and_second_ace = P_first_Ace * P_second_Ace_after_giving_first\n",
    "P_first_and_second_ace"
   ]
  },
  {
   "cell_type": "markdown",
   "id": "11392bdc-139e-49e7-89c5-3bffd9b97646",
   "metadata": {},
   "source": [
    "2. Ваш друг просыпается поздно в среднем четыре дня из пяти. Если он просыпается поздно, он опаздывает на работу с вероятностью 70%. Если же он просыпается вовремя, он опаздывает с вероятностью 10%. Какова вероятность того, что ваш друг опоздает на работу?"
   ]
  },
  {
   "cell_type": "markdown",
   "id": "3ec85a8e-4f6c-4d0e-b342-610c594c3b67",
   "metadata": {},
   "source": [
    "get up late = GL\n",
    "\n",
    "be late for work = BL\n",
    "\n",
    "P(GL) = 4/5 = 0.8\n",
    "\n",
    "P(GL') = 1- 0.8 = 0.2\n",
    "\n",
    "P(BL|GL) = 0.7\n",
    "\n",
    "P(BL|GL') = 0.1\n",
    "\n",
    "P(BL) = P(GL) * P(BL|GL) + P(GL') * P(BL|GL')"
   ]
  },
  {
   "cell_type": "code",
   "execution_count": 17,
   "id": "9fb04438-72e7-4559-b387-487647648f54",
   "metadata": {},
   "outputs": [
    {
     "data": {
      "text/plain": [
       "0.58"
      ]
     },
     "execution_count": 17,
     "metadata": {},
     "output_type": "execute_result"
    }
   ],
   "source": [
    "P_get_up_late = 4/5\n",
    "P_not_get_up_late = 1 - P_get_up_late\n",
    "P_be_late_when_get_up_late = 0.7\n",
    "P_be_late_when_not_get_up_late = 0.1\n",
    "P_be_late = P_get_up_late * P_be_late_when_get_up_late + P_not_get_up_late * P_be_late_when_not_get_up_late\n",
    "P_be_late\n"
   ]
  },
  {
   "cell_type": "markdown",
   "id": "717b6808-120d-4136-a1d0-c1ccfcd072d9",
   "metadata": {},
   "source": [
    "3. В мешке содержатся 3 белых шара, 4 зелёных шара и 5 красных шаров. Вы вытаскиваете поочерёдно два шара из мешка, без возврата. Какова вероятность того, что вы вытащите зелёный и красный шары в любом порядке?"
   ]
  },
  {
   "cell_type": "markdown",
   "id": "2411644a-e04a-4462-9c06-eb32034b5b4d",
   "metadata": {},
   "source": [
    "white balls = 3     \n",
    "green balls = 4     \n",
    "red balls = 5     \n",
    "total balls = 3+4+5 = 12     \n",
    "p(w) = 3/12  \n",
    "p(g) = 4/12  \n",
    "p(r) = 5/12\n",
    "\n",
    "<span style=\"color:blue\"> 2-version</span>\n",
    "1. first we take green than red\n",
    "2. first we take red than green\n"
   ]
  },
  {
   "cell_type": "code",
   "execution_count": 18,
   "id": "9b7f9a34-7b43-4355-af7a-b91c42fa85e8",
   "metadata": {},
   "outputs": [
    {
     "data": {
      "text/plain": [
       "0.1515151515151515"
      ]
     },
     "execution_count": 18,
     "metadata": {},
     "output_type": "execute_result"
    }
   ],
   "source": [
    "#first version\n",
    "p_g = 4/12\n",
    "p_r_after_g = 5/11\n",
    "p_g_and_r = p_g * p_r_after_g\n",
    "p_g_and_r\n"
   ]
  },
  {
   "cell_type": "code",
   "execution_count": 19,
   "id": "a357b0b8-f99d-41b2-b661-c4d01fc5d8f9",
   "metadata": {},
   "outputs": [
    {
     "data": {
      "text/plain": [
       "0.15151515151515152"
      ]
     },
     "execution_count": 19,
     "metadata": {},
     "output_type": "execute_result"
    }
   ],
   "source": [
    "#sercond version\n",
    "p_r = 5/12\n",
    "p_g_after_r = 4/11\n",
    "p_r_and_g = p_r * p_g_after_r\n",
    "p_r_and_g\n"
   ]
  },
  {
   "cell_type": "code",
   "execution_count": 20,
   "id": "d6070adc-2a62-434c-b34b-2cff6657f841",
   "metadata": {},
   "outputs": [
    {
     "data": {
      "text/plain": [
       "0.303030303030303"
      ]
     },
     "execution_count": 20,
     "metadata": {},
     "output_type": "execute_result"
    }
   ],
   "source": [
    "total_p_r_and_g = p_r_and_g + p_g_and_r\n",
    "total_p_r_and_g"
   ]
  },
  {
   "cell_type": "markdown",
   "id": "5fbf6e1e-2e80-430a-b35f-4a5b1117a0d5",
   "metadata": {},
   "source": [
    "4.На фабрике по производству чипсов 98% всех упаковок содержат вкусовые добавки. В рамках испытаний, группе добровольцев было предложено попробовать чипсы и определить имеются ли в них вкусовые добавки. 99% испытуемых попробовав чипсы со вкусовыми добавками ответили \"Да\". При этом, 2.5% испытуемых, которым были поданы чипсы без вкусовых добавок, также ответили \"Да\" . Если попробовав рандомно выбранную упаковку, испытуемый отвечает \"Нет\", какова вероятность того что чипсы действительно не содержат вкусовых добавок?"
   ]
  },
  {
   "cell_type": "markdown",
   "id": "848e26ca-54d0-4f44-8ef4-455c7bf03f83",
   "metadata": {},
   "source": [
    "вероятность того что упаковок содержит вкусовые добавки Р(А)=0,98   \n",
    "вероятность того что упаковок не содержит вкусовые добавки Р(А')=1-Р(А) = 0,02       \n",
    "вероятность того что есть добавок и испитуемые сказали да P(Y|A) = 0,99   \n",
    "вероятность того что нет добавок и испитуемые сказали да P(Y|A') = 0.025   \n",
    "вероятность того что есть добавок и испитуемые сказали нет P(N|A) = 1 - P(Y|A) = 0.01   \n",
    "вероятность того что нет добавок и испитуемые сказали нет P(N|A') = 1 - P(Y|A') = 0.975     \n",
    "P(A'|N) = P(A'n N)/ P(N)\n",
    "P(A'n N) = P(A') * P(A'|N)   \n",
    "P(N) = P(N|A) * P(A) + P(N|A')* P(A')"
   ]
  },
  {
   "cell_type": "code",
   "execution_count": 50,
   "id": "1be8c17e-2722-4310-91fc-5ae6a92a5df9",
   "metadata": {},
   "outputs": [
    {
     "data": {
      "text/plain": [
       "0.6689419795221843"
      ]
     },
     "execution_count": 50,
     "metadata": {},
     "output_type": "execute_result"
    }
   ],
   "source": [
    "p_A = 0.98\n",
    "p_not_A = 1-p_A\n",
    "p_YES_A = 0.99\n",
    "p_YES_not_A = 0.025\n",
    "p_NO_A= 1-p_YES_A\n",
    "p_NO_not_A = 1 -p_YES_not_A\n",
    "p_not_A_and_NO = p_not_A * p_A\n",
    "p_NO =p_NO_A * p_A + p_not_A * p_NO_not_A\n",
    "p_not_A_while_NO = p_not_A_and_NO / p_NO\n",
    "p_not_A_while_NO\n",
    "\n"
   ]
  },
  {
   "cell_type": "markdown",
   "id": "250ac1aa-c446-494e-9529-98efe6d88800",
   "metadata": {},
   "source": [
    "5. Известно что движок некоей модели автомобиля перегревается в 3% случаев. При перегреве движка, в 98% случаев включается индикатор оповещения. Однако, в 1% случаев, индикатор включается без перегрева. Ответьте на следующие вопросы:\n",
    "какова вероятность включения индикатора?\n",
    "если водитель видит включённый индикатор, какова вероятность того что движок действительно перегрелся?"
   ]
  },
  {
   "cell_type": "markdown",
   "id": "c5d1e5fb-5cb3-445a-b265-d29b97e1f31f",
   "metadata": {},
   "source": [
    "Вероятность прегрев двигателья Р(Н) = 0,03\n",
    "Вероятность не прегрев двигателья Р(Н')= 1 - Р(Н) = 0,97\n",
    "Вероятность включение индикатора при прегреве P(I|H) = 0,98\n",
    "Вероятность включение индикатора при не прегреве P(I|H') = 0,01\n",
    "1. P(I) = Р(Н) * P(I|H) + Р(Н') * P(I|H')\n",
    "2. P(H|I) = P(HnI)/P(I) = (P(I|H)*P(H))/P(I)"
   ]
  },
  {
   "cell_type": "code",
   "execution_count": 52,
   "id": "9b0f3735-f672-4e6d-ad2d-19dc9996bb23",
   "metadata": {},
   "outputs": [],
   "source": [
    "p_H = 0.03\n",
    "p_not_H = 1 -p_H\n",
    "p_I_H = 0.98\n",
    "P_I_not_H = 0.01"
   ]
  },
  {
   "cell_type": "code",
   "execution_count": 53,
   "id": "e3e25665-9cd7-45df-a536-89a95de5cc51",
   "metadata": {},
   "outputs": [
    {
     "data": {
      "text/plain": [
       "0.039099999999999996"
      ]
     },
     "execution_count": 53,
     "metadata": {},
     "output_type": "execute_result"
    }
   ],
   "source": [
    "p_I = p_H * p_I_H + p_not_H * P_I_not_H\n",
    "p_I"
   ]
  },
  {
   "cell_type": "code",
   "execution_count": 55,
   "id": "de03500a-831c-41f2-897c-b280e633515f",
   "metadata": {},
   "outputs": [
    {
     "data": {
      "text/plain": [
       "0.751918158567775"
      ]
     },
     "execution_count": 55,
     "metadata": {},
     "output_type": "execute_result"
    }
   ],
   "source": [
    "p_H_I = p_I_H * p_H / p_I\n",
    "p_H_I"
   ]
  },
  {
   "cell_type": "code",
   "execution_count": null,
   "id": "375abbbd-37c7-4507-abc0-53079b5bcbee",
   "metadata": {},
   "outputs": [],
   "source": []
  }
 ],
 "metadata": {
  "kernelspec": {
   "display_name": "Python 3 (ipykernel)",
   "language": "python",
   "name": "python3"
  },
  "language_info": {
   "codemirror_mode": {
    "name": "ipython",
    "version": 3
   },
   "file_extension": ".py",
   "mimetype": "text/x-python",
   "name": "python",
   "nbconvert_exporter": "python",
   "pygments_lexer": "ipython3",
   "version": "3.12.7"
  }
 },
 "nbformat": 4,
 "nbformat_minor": 5
}
